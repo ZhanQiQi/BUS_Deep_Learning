{
 "cells": [
  {
   "cell_type": "code",
   "execution_count": 1,
   "metadata": {},
   "outputs": [
    {
     "name": "stderr",
     "output_type": "stream",
     "text": [
      "Using TensorFlow backend.\n"
     ]
    }
   ],
   "source": [
    "import os\n",
    "import cv2\n",
    "import numpy as np\n",
    "import pandas as pd\n",
    "from keras.models import load_model"
   ]
  },
  {
   "cell_type": "code",
   "execution_count": 2,
   "metadata": {},
   "outputs": [],
   "source": [
    "#Load Model\n",
    "model = 'models/classification_models/inception_resnet_v2-aug_no-normals'\n",
    "model_name = 'weights-improvement-32-0.89.hdf5'\n",
    "             \n",
    "model_dir = os.path.join(model,model_name)\n",
    "\n",
    "trained_lesion_class_model = load_model(model_dir)"
   ]
  },
  {
   "cell_type": "code",
   "execution_count": 3,
   "metadata": {},
   "outputs": [],
   "source": [
    "train_set = pd.read_pickle('/external_drive/BUS_Deep_Learning/train_set_class_nn.pickle')\n",
    "val_set = pd.read_pickle('/external_drive/BUS_Deep_Learning/val_set_class_nn.pickle')"
   ]
  },
  {
   "cell_type": "code",
   "execution_count": 4,
   "metadata": {},
   "outputs": [
    {
     "data": {
      "text/html": [
       "<div>\n",
       "<style scoped>\n",
       "    .dataframe tbody tr th:only-of-type {\n",
       "        vertical-align: middle;\n",
       "    }\n",
       "\n",
       "    .dataframe tbody tr th {\n",
       "        vertical-align: top;\n",
       "    }\n",
       "\n",
       "    .dataframe thead th {\n",
       "        text-align: right;\n",
       "    }\n",
       "</style>\n",
       "<table border=\"1\" class=\"dataframe\">\n",
       "  <thead>\n",
       "    <tr style=\"text-align: right;\">\n",
       "      <th></th>\n",
       "      <th>image_path</th>\n",
       "      <th>images</th>\n",
       "      <th>lesion_state</th>\n",
       "      <th>lesion_state_one_hot</th>\n",
       "    </tr>\n",
       "  </thead>\n",
       "  <tbody>\n",
       "    <tr>\n",
       "      <th>474</th>\n",
       "      <td>/external_drive/BUS_Deep_Learning/data/Dataset...</td>\n",
       "      <td>benign (345).png</td>\n",
       "      <td>benign</td>\n",
       "      <td>[1, 0]</td>\n",
       "    </tr>\n",
       "    <tr>\n",
       "      <th>703</th>\n",
       "      <td>/external_drive/BUS_Deep_Learning/data/Dataset...</td>\n",
       "      <td>malignant (170).png</td>\n",
       "      <td>malignant</td>\n",
       "      <td>[0, 1]</td>\n",
       "    </tr>\n",
       "    <tr>\n",
       "      <th>278</th>\n",
       "      <td>/external_drive/BUS_Deep_Learning/data/Dataset...</td>\n",
       "      <td>benign (278).png</td>\n",
       "      <td>benign</td>\n",
       "      <td>[1, 0]</td>\n",
       "    </tr>\n",
       "    <tr>\n",
       "      <th>299</th>\n",
       "      <td>/external_drive/BUS_Deep_Learning/data/Dataset...</td>\n",
       "      <td>benign (304).png</td>\n",
       "      <td>benign</td>\n",
       "      <td>[1, 0]</td>\n",
       "    </tr>\n",
       "    <tr>\n",
       "      <th>632</th>\n",
       "      <td>/external_drive/BUS_Deep_Learning/data/Dataset...</td>\n",
       "      <td>malignant (61).png</td>\n",
       "      <td>malignant</td>\n",
       "      <td>[0, 1]</td>\n",
       "    </tr>\n",
       "  </tbody>\n",
       "</table>\n",
       "</div>"
      ],
      "text/plain": [
       "                                            image_path               images  \\\n",
       "474  /external_drive/BUS_Deep_Learning/data/Dataset...     benign (345).png   \n",
       "703  /external_drive/BUS_Deep_Learning/data/Dataset...  malignant (170).png   \n",
       "278  /external_drive/BUS_Deep_Learning/data/Dataset...     benign (278).png   \n",
       "299  /external_drive/BUS_Deep_Learning/data/Dataset...     benign (304).png   \n",
       "632  /external_drive/BUS_Deep_Learning/data/Dataset...   malignant (61).png   \n",
       "\n",
       "    lesion_state lesion_state_one_hot  \n",
       "474       benign               [1, 0]  \n",
       "703    malignant               [0, 1]  \n",
       "278       benign               [1, 0]  \n",
       "299       benign               [1, 0]  \n",
       "632    malignant               [0, 1]  "
      ]
     },
     "execution_count": 4,
     "metadata": {},
     "output_type": "execute_result"
    }
   ],
   "source": [
    "val_set.head()"
   ]
  },
  {
   "cell_type": "code",
   "execution_count": 5,
   "metadata": {},
   "outputs": [
    {
     "name": "stdout",
     "output_type": "stream",
     "text": [
      "loading sequence : /external_drive/BUS_Deep_Learning/data/Dataset_BUSI_with_GT/benign/benign (345).png\n",
      "loading sequence : /external_drive/BUS_Deep_Learning/data/Dataset_BUSI_with_GT/malignant/malignant (170).png\n",
      "loading sequence : /external_drive/BUS_Deep_Learning/data/Dataset_BUSI_with_GT/benign/benign (278).png\n",
      "loading sequence : /external_drive/BUS_Deep_Learning/data/Dataset_BUSI_with_GT/benign/benign (304).png\n",
      "loading sequence : /external_drive/BUS_Deep_Learning/data/Dataset_BUSI_with_GT/malignant/malignant (61).png\n",
      "loading sequence : /external_drive/BUS_Deep_Learning/data/Dataset_BUSI_with_GT/benign/benign (405).png\n",
      "loading sequence : /external_drive/BUS_Deep_Learning/data/Dataset_BUSI_with_GT/benign/benign (291).png\n",
      "loading sequence : /external_drive/BUS_Deep_Learning/data/Dataset_BUSI_with_GT/benign/benign (33).png\n",
      "loading sequence : /external_drive/BUS_Deep_Learning/data/Dataset_BUSI_with_GT/benign/benign (13).png\n",
      "loading sequence : /external_drive/BUS_Deep_Learning/data/Dataset_BUSI_with_GT/benign/benign (430).png\n",
      "loading sequence : /external_drive/BUS_Deep_Learning/data/Dataset_BUSI_with_GT/malignant/malignant (68).png\n",
      "loading sequence : /external_drive/BUS_Deep_Learning/data/Dataset_BUSI_with_GT/malignant/malignant (60).png\n",
      "loading sequence : /external_drive/BUS_Deep_Learning/data/Dataset_BUSI_with_GT/benign/benign (296).png\n",
      "loading sequence : /external_drive/BUS_Deep_Learning/data/Dataset_BUSI_with_GT/benign/benign (426).png\n",
      "loading sequence : /external_drive/BUS_Deep_Learning/data/Dataset_BUSI_with_GT/benign/benign (353).png\n",
      "loading sequence : /external_drive/BUS_Deep_Learning/data/Dataset_BUSI_with_GT/benign/benign (290).png\n",
      "loading sequence : /external_drive/BUS_Deep_Learning/data/Dataset_BUSI_with_GT/malignant/malignant (136).png\n",
      "loading sequence : /external_drive/BUS_Deep_Learning/data/Dataset_BUSI_with_GT/malignant/malignant (81).png\n",
      "loading sequence : /external_drive/BUS_Deep_Learning/data/Dataset_BUSI_with_GT/benign/benign (337).png\n",
      "loading sequence : /external_drive/BUS_Deep_Learning/data/Dataset_BUSI_with_GT/benign/benign (5).png\n",
      "loading sequence : /external_drive/BUS_Deep_Learning/data/Dataset_BUSI_with_GT/benign/benign (74).png\n",
      "loading sequence : /external_drive/BUS_Deep_Learning/data/Dataset_BUSI_with_GT/benign/benign (347).png\n",
      "loading sequence : /external_drive/BUS_Deep_Learning/data/Dataset_BUSI_with_GT/malignant/malignant (28).png\n",
      "loading sequence : /external_drive/BUS_Deep_Learning/data/Dataset_BUSI_with_GT/benign/benign (254).png\n",
      "loading sequence : /external_drive/BUS_Deep_Learning/data/Dataset_BUSI_with_GT/malignant/malignant (79).png\n",
      "loading sequence : /external_drive/BUS_Deep_Learning/data/Dataset_BUSI_with_GT/malignant/malignant (198).png\n",
      "loading sequence : /external_drive/BUS_Deep_Learning/data/Dataset_BUSI_with_GT/malignant/malignant (117).png\n",
      "loading sequence : /external_drive/BUS_Deep_Learning/data/Dataset_BUSI_with_GT/malignant/malignant (80).png\n",
      "loading sequence : /external_drive/BUS_Deep_Learning/data/Dataset_BUSI_with_GT/benign/benign (52).png\n",
      "loading sequence : /external_drive/BUS_Deep_Learning/data/Dataset_BUSI_with_GT/malignant/malignant (85).png\n",
      "loading sequence : /external_drive/BUS_Deep_Learning/data/Dataset_BUSI_with_GT/benign/benign (138).png\n",
      "loading sequence : /external_drive/BUS_Deep_Learning/data/Dataset_BUSI_with_GT/malignant/malignant (47).png\n",
      "loading sequence : /external_drive/BUS_Deep_Learning/data/Dataset_BUSI_with_GT/benign/benign (391).png\n",
      "loading sequence : /external_drive/BUS_Deep_Learning/data/Dataset_BUSI_with_GT/malignant/malignant (190).png\n",
      "loading sequence : /external_drive/BUS_Deep_Learning/data/Dataset_BUSI_with_GT/malignant/malignant (82).png\n",
      "loading sequence : /external_drive/BUS_Deep_Learning/data/Dataset_BUSI_with_GT/benign/benign (197).png\n",
      "loading sequence : /external_drive/BUS_Deep_Learning/data/Dataset_BUSI_with_GT/benign/benign (373).png\n",
      "loading sequence : /external_drive/BUS_Deep_Learning/data/Dataset_BUSI_with_GT/benign/benign (84).png\n",
      "loading sequence : /external_drive/BUS_Deep_Learning/data/Dataset_BUSI_with_GT/benign/benign (431).png\n",
      "loading sequence : /external_drive/BUS_Deep_Learning/data/Dataset_BUSI_with_GT/malignant/malignant (98).png\n",
      "loading sequence : /external_drive/BUS_Deep_Learning/data/Dataset_BUSI_with_GT/benign/benign (69).png\n",
      "loading sequence : /external_drive/BUS_Deep_Learning/data/Dataset_BUSI_with_GT/benign/benign (214).png\n",
      "loading sequence : /external_drive/BUS_Deep_Learning/data/Dataset_BUSI_with_GT/benign/benign (409).png\n",
      "loading sequence : /external_drive/BUS_Deep_Learning/data/Dataset_BUSI_with_GT/benign/benign (437).png\n",
      "loading sequence : /external_drive/BUS_Deep_Learning/data/Dataset_BUSI_with_GT/benign/benign (62).png\n",
      "loading sequence : /external_drive/BUS_Deep_Learning/data/Dataset_BUSI_with_GT/benign/benign (106).png\n",
      "loading sequence : /external_drive/BUS_Deep_Learning/data/Dataset_BUSI_with_GT/benign/benign (277).png\n",
      "loading sequence : /external_drive/BUS_Deep_Learning/data/Dataset_BUSI_with_GT/benign/benign (424).png\n",
      "loading sequence : /external_drive/BUS_Deep_Learning/data/Dataset_BUSI_with_GT/benign/benign (257).png\n",
      "loading sequence : /external_drive/BUS_Deep_Learning/data/Dataset_BUSI_with_GT/benign/benign (307).png\n",
      "loading sequence : /external_drive/BUS_Deep_Learning/data/Dataset_BUSI_with_GT/benign/benign (155).png\n",
      "loading sequence : /external_drive/BUS_Deep_Learning/data/Dataset_BUSI_with_GT/benign/benign (265).png\n",
      "loading sequence : /external_drive/BUS_Deep_Learning/data/Dataset_BUSI_with_GT/benign/benign (317).png\n",
      "loading sequence : /external_drive/BUS_Deep_Learning/data/Dataset_BUSI_with_GT/malignant/malignant (127).png\n",
      "loading sequence : /external_drive/BUS_Deep_Learning/data/Dataset_BUSI_with_GT/malignant/malignant (48).png\n",
      "loading sequence : /external_drive/BUS_Deep_Learning/data/Dataset_BUSI_with_GT/malignant/malignant (90).png\n",
      "loading sequence : /external_drive/BUS_Deep_Learning/data/Dataset_BUSI_with_GT/malignant/malignant (52).png\n",
      "loading sequence : /external_drive/BUS_Deep_Learning/data/Dataset_BUSI_with_GT/benign/benign (398).png\n",
      "loading sequence : /external_drive/BUS_Deep_Learning/data/Dataset_BUSI_with_GT/benign/benign (377).png\n",
      "loading sequence : /external_drive/BUS_Deep_Learning/data/Dataset_BUSI_with_GT/benign/benign (129).png\n",
      "loading sequence : /external_drive/BUS_Deep_Learning/data/Dataset_BUSI_with_GT/benign/benign (161).png\n",
      "loading sequence : /external_drive/BUS_Deep_Learning/data/Dataset_BUSI_with_GT/benign/benign (213).png\n",
      "loading sequence : /external_drive/BUS_Deep_Learning/data/Dataset_BUSI_with_GT/benign/benign (132).png\n",
      "loading sequence : /external_drive/BUS_Deep_Learning/data/Dataset_BUSI_with_GT/benign/benign (160).png\n",
      "loading sequence : /external_drive/BUS_Deep_Learning/data/Dataset_BUSI_with_GT/malignant/malignant (37).png\n",
      "loading sequence : /external_drive/BUS_Deep_Learning/data/Dataset_BUSI_with_GT/benign/benign (57).png\n",
      "loading sequence : /external_drive/BUS_Deep_Learning/data/Dataset_BUSI_with_GT/benign/benign (372).png\n",
      "loading sequence : /external_drive/BUS_Deep_Learning/data/Dataset_BUSI_with_GT/benign/benign (364).png\n",
      "loading sequence : /external_drive/BUS_Deep_Learning/data/Dataset_BUSI_with_GT/benign/benign (7).png\n",
      "loading sequence : /external_drive/BUS_Deep_Learning/data/Dataset_BUSI_with_GT/benign/benign (38).png\n",
      "loading sequence : /external_drive/BUS_Deep_Learning/data/Dataset_BUSI_with_GT/benign/benign (204).png\n",
      "loading sequence : /external_drive/BUS_Deep_Learning/data/Dataset_BUSI_with_GT/malignant/malignant (73).png\n",
      "loading sequence : /external_drive/BUS_Deep_Learning/data/Dataset_BUSI_with_GT/benign/benign (66).png\n",
      "loading sequence : /external_drive/BUS_Deep_Learning/data/Dataset_BUSI_with_GT/benign/benign (333).png\n",
      "loading sequence : /external_drive/BUS_Deep_Learning/data/Dataset_BUSI_with_GT/malignant/malignant (148).png\n",
      "loading sequence : /external_drive/BUS_Deep_Learning/data/Dataset_BUSI_with_GT/malignant/malignant (107).png\n",
      "loading sequence : /external_drive/BUS_Deep_Learning/data/Dataset_BUSI_with_GT/benign/benign (124).png\n",
      "loading sequence : /external_drive/BUS_Deep_Learning/data/Dataset_BUSI_with_GT/benign/benign (146).png\n",
      "loading sequence : /external_drive/BUS_Deep_Learning/data/Dataset_BUSI_with_GT/benign/benign (49).png\n"
     ]
    },
    {
     "name": "stdout",
     "output_type": "stream",
     "text": [
      "loading sequence : /external_drive/BUS_Deep_Learning/data/Dataset_BUSI_with_GT/benign/benign (42).png\n",
      "loading sequence : /external_drive/BUS_Deep_Learning/data/Dataset_BUSI_with_GT/benign/benign (412).png\n",
      "loading sequence : /external_drive/BUS_Deep_Learning/data/Dataset_BUSI_with_GT/benign/benign (289).png\n",
      "loading sequence : /external_drive/BUS_Deep_Learning/data/Dataset_BUSI_with_GT/malignant/malignant (32).png\n",
      "loading sequence : /external_drive/BUS_Deep_Learning/data/Dataset_BUSI_with_GT/benign/benign (301).png\n",
      "loading sequence : /external_drive/BUS_Deep_Learning/data/Dataset_BUSI_with_GT/benign/benign (427).png\n",
      "loading sequence : /external_drive/BUS_Deep_Learning/data/Dataset_BUSI_with_GT/malignant/malignant (14).png\n",
      "loading sequence : /external_drive/BUS_Deep_Learning/data/Dataset_BUSI_with_GT/malignant/malignant (191).png\n",
      "loading sequence : /external_drive/BUS_Deep_Learning/data/Dataset_BUSI_with_GT/benign/benign (206).png\n",
      "loading sequence : /external_drive/BUS_Deep_Learning/data/Dataset_BUSI_with_GT/benign/benign (224).png\n",
      "loading sequence : /external_drive/BUS_Deep_Learning/data/Dataset_BUSI_with_GT/benign/benign (270).png\n",
      "loading sequence : /external_drive/BUS_Deep_Learning/data/Dataset_BUSI_with_GT/benign/benign (273).png\n",
      "loading sequence : /external_drive/BUS_Deep_Learning/data/Dataset_BUSI_with_GT/malignant/malignant (44).png\n",
      "loading sequence : /external_drive/BUS_Deep_Learning/data/Dataset_BUSI_with_GT/benign/benign (223).png\n",
      "loading sequence : /external_drive/BUS_Deep_Learning/data/Dataset_BUSI_with_GT/malignant/malignant (95).png\n",
      "loading sequence : /external_drive/BUS_Deep_Learning/data/Dataset_BUSI_with_GT/malignant/malignant (186).png\n",
      "loading sequence : /external_drive/BUS_Deep_Learning/data/Dataset_BUSI_with_GT/benign/benign (107).png\n",
      "loading sequence : /external_drive/BUS_Deep_Learning/data/Dataset_BUSI_with_GT/benign/benign (125).png\n",
      "loading sequence : /external_drive/BUS_Deep_Learning/data/Dataset_BUSI_with_GT/benign/benign (48).png\n",
      "loading sequence : /external_drive/BUS_Deep_Learning/data/Dataset_BUSI_with_GT/benign/benign (250).png\n",
      "loading sequence : /external_drive/BUS_Deep_Learning/data/Dataset_BUSI_with_GT/malignant/malignant (182).png\n",
      "loading sequence : /external_drive/BUS_Deep_Learning/data/Dataset_BUSI_with_GT/benign/benign (282).png\n",
      "loading sequence : /external_drive/BUS_Deep_Learning/data/Dataset_BUSI_with_GT/benign/benign (382).png\n",
      "loading sequence : /external_drive/BUS_Deep_Learning/data/Dataset_BUSI_with_GT/benign/benign (344).png\n",
      "loading sequence : /external_drive/BUS_Deep_Learning/data/Dataset_BUSI_with_GT/benign/benign (184).png\n",
      "loading sequence : /external_drive/BUS_Deep_Learning/data/Dataset_BUSI_with_GT/malignant/malignant (39).png\n",
      "loading sequence : /external_drive/BUS_Deep_Learning/data/Dataset_BUSI_with_GT/benign/benign (239).png\n",
      "loading sequence : /external_drive/BUS_Deep_Learning/data/Dataset_BUSI_with_GT/malignant/malignant (46).png\n",
      "loading sequence : /external_drive/BUS_Deep_Learning/data/Dataset_BUSI_with_GT/malignant/malignant (188).png\n",
      "loading sequence : /external_drive/BUS_Deep_Learning/data/Dataset_BUSI_with_GT/malignant/malignant (163).png\n",
      "loading sequence : /external_drive/BUS_Deep_Learning/data/Dataset_BUSI_with_GT/malignant/malignant (158).png\n",
      "loading sequence : /external_drive/BUS_Deep_Learning/data/Dataset_BUSI_with_GT/malignant/malignant (22).png\n",
      "loading sequence : /external_drive/BUS_Deep_Learning/data/Dataset_BUSI_with_GT/benign/benign (334).png\n",
      "loading sequence : /external_drive/BUS_Deep_Learning/data/Dataset_BUSI_with_GT/benign/benign (53).png\n",
      "loading sequence : /external_drive/BUS_Deep_Learning/data/Dataset_BUSI_with_GT/malignant/malignant (78).png\n",
      "loading sequence : /external_drive/BUS_Deep_Learning/data/Dataset_BUSI_with_GT/benign/benign (198).png\n",
      "loading sequence : /external_drive/BUS_Deep_Learning/data/Dataset_BUSI_with_GT/malignant/malignant (132).png\n",
      "loading sequence : /external_drive/BUS_Deep_Learning/data/Dataset_BUSI_with_GT/benign/benign (234).png\n",
      "loading sequence : /external_drive/BUS_Deep_Learning/data/Dataset_BUSI_with_GT/benign/benign (366).png\n",
      "loading sequence : /external_drive/BUS_Deep_Learning/data/Dataset_BUSI_with_GT/benign/benign (91).png\n",
      "loading sequence : /external_drive/BUS_Deep_Learning/data/Dataset_BUSI_with_GT/benign/benign (40).png\n",
      "loading sequence : /external_drive/BUS_Deep_Learning/data/Dataset_BUSI_with_GT/benign/benign (103).png\n",
      "loading sequence : /external_drive/BUS_Deep_Learning/data/Dataset_BUSI_with_GT/malignant/malignant (114).png\n",
      "loading sequence : /external_drive/BUS_Deep_Learning/data/Dataset_BUSI_with_GT/benign/benign (25).png\n",
      "loading sequence : /external_drive/BUS_Deep_Learning/data/Dataset_BUSI_with_GT/malignant/malignant (207).png\n",
      "loading sequence : /external_drive/BUS_Deep_Learning/data/Dataset_BUSI_with_GT/benign/benign (403).png\n",
      "loading sequence : /external_drive/BUS_Deep_Learning/data/Dataset_BUSI_with_GT/benign/benign (215).png\n",
      "loading sequence : /external_drive/BUS_Deep_Learning/data/Dataset_BUSI_with_GT/benign/benign (122).png\n",
      "loading sequence : /external_drive/BUS_Deep_Learning/data/Dataset_BUSI_with_GT/benign/benign (279).png\n",
      "loading sequence : /external_drive/BUS_Deep_Learning/data/Dataset_BUSI_with_GT/malignant/malignant (154).png\n",
      "loading sequence : /external_drive/BUS_Deep_Learning/data/Dataset_BUSI_with_GT/benign/benign (117).png\n"
     ]
    }
   ],
   "source": [
    "classes = ['benign','malignant']\n",
    "gts = []\n",
    "preds = [] \n",
    "\n",
    "for index, row in val_set.iterrows():\n",
    "    print('loading sequence : {}'.format(row['image_path']))\n",
    "    img = cv2.imread(row['image_path'], cv2.IMREAD_GRAYSCALE)\n",
    "    img = cv2.resize(img,(128,128))\n",
    "    img = img/255.0\n",
    "    img = np.array([img.reshape(img.shape+(1,))])\n",
    "    pred = trained_lesion_class_model.predict(img)\n",
    "    preds.append(classes[np.where(pred[0]==max(pred[0]))[0][0]])\n",
    "    gts.append(row['lesion_state'])"
   ]
  },
  {
   "cell_type": "code",
   "execution_count": 6,
   "metadata": {},
   "outputs": [],
   "source": [
    "results = pd.DataFrame(columns=['prediction','ground_truth'])\n",
    "results['prediction'] = preds\n",
    "results['ground_truth'] = gts"
   ]
  },
  {
   "cell_type": "code",
   "execution_count": 7,
   "metadata": {},
   "outputs": [
    {
     "data": {
      "text/plain": [
       "0.8923076923076924"
      ]
     },
     "execution_count": 7,
     "metadata": {},
     "output_type": "execute_result"
    }
   ],
   "source": [
    "#accuracy\n",
    "len(results.loc[results['prediction']==results['ground_truth']])/len(results)"
   ]
  },
  {
   "cell_type": "code",
   "execution_count": null,
   "metadata": {},
   "outputs": [],
   "source": []
  }
 ],
 "metadata": {
  "kernelspec": {
   "display_name": "Environment (conda_tensorflow_p36)",
   "language": "python",
   "name": "conda_tensorflow_p36"
  },
  "language_info": {
   "codemirror_mode": {
    "name": "ipython",
    "version": 3
   },
   "file_extension": ".py",
   "mimetype": "text/x-python",
   "name": "python",
   "nbconvert_exporter": "python",
   "pygments_lexer": "ipython3",
   "version": "3.6.5"
  }
 },
 "nbformat": 4,
 "nbformat_minor": 2
}
