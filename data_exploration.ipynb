{
 "cells": [
  {
   "cell_type": "code",
   "execution_count": 5,
   "metadata": {},
   "outputs": [],
   "source": [
    "import os\n",
    "import cv2\n",
    "import glob\n",
    "import shutil\n",
    "import pandas as pd\n",
    "import numpy as np\n",
    "from sklearn.model_selection import train_test_split\n",
    "from matplotlib import pyplot as plt"
   ]
  },
  {
   "cell_type": "markdown",
   "metadata": {},
   "source": [
    "**DESCRIPTIVE STATISTICS**"
   ]
  },
  {
   "cell_type": "markdown",
   "metadata": {},
   "source": [
    "**TEST IMAGES**"
   ]
  },
  {
   "cell_type": "code",
   "execution_count": 2,
   "metadata": {},
   "outputs": [],
   "source": [
    "path_to_bus = '/external_drive/BUS_Deep_Learning/data/test_images/STU-Hospital/Hospital'"
   ]
  },
  {
   "cell_type": "code",
   "execution_count": 3,
   "metadata": {},
   "outputs": [],
   "source": [
    "path_to_test_imgs = '/external_drive/BUS_Deep_Learning/data/seg_dir_test_images'\n",
    "path_to_test_masks = '/external_drive/BUS_Deep_Learning/data/seg_dir_test_masks'\n",
    "os.makedirs(path_to_test_imgs,exist_ok=True)\n",
    "os.makedirs(path_to_test_masks,exist_ok=True)"
   ]
  },
  {
   "cell_type": "code",
   "execution_count": 4,
   "metadata": {},
   "outputs": [],
   "source": [
    "for img in os.listdir(path_to_bus):\n",
    "    if 'Test' in img:\n",
    "        shutil.copy(os.path.join(path_to_bus,img),path_to_test_imgs)\n",
    "    if 'mask' in img:\n",
    "        shutil.copy(os.path.join(path_to_bus,img),path_to_test_masks)\n",
    "        os.rename(os.path.join(path_to_test_masks,img), os.path.join(path_to_test_masks,img.replace('mask','Test_Image')))"
   ]
  },
  {
   "cell_type": "markdown",
   "metadata": {},
   "source": [
    "**TRAINING/VAL IMAGES**"
   ]
  },
  {
   "cell_type": "code",
   "execution_count": 6,
   "metadata": {},
   "outputs": [],
   "source": [
    "path_to_bus = '/external_drive/BUS_Deep_Learning/data/Dataset_BUSI_with_GT'"
   ]
  },
  {
   "cell_type": "code",
   "execution_count": 7,
   "metadata": {},
   "outputs": [],
   "source": [
    "images = []\n",
    "masks = []\n",
    "lesion_state = []\n",
    "for condition in os.listdir(path_to_bus):\n",
    "    for bus in os.listdir(os.path.join(path_to_bus,condition)):\n",
    "        if 'mask' in bus:\n",
    "            masks.append(bus)\n",
    "        else:\n",
    "            images.append(bus)\n",
    "            lesion_state.append(condition)"
   ]
  },
  {
   "cell_type": "code",
   "execution_count": 8,
   "metadata": {},
   "outputs": [],
   "source": [
    "fmatrix = pd.DataFrame(columns=['images','lesion_state'])\n",
    "fmatrix['images'] = images\n",
    "fmatrix['lesion_state'] = lesion_state"
   ]
  },
  {
   "cell_type": "code",
   "execution_count": 9,
   "metadata": {},
   "outputs": [
    {
     "data": {
      "text/plain": [
       "benign       437\n",
       "malignant    210\n",
       "normal       133\n",
       "Name: lesion_state, dtype: int64"
      ]
     },
     "execution_count": 9,
     "metadata": {},
     "output_type": "execute_result"
    }
   ],
   "source": [
    "fmatrix['lesion_state'].value_counts()"
   ]
  },
  {
   "cell_type": "code",
   "execution_count": null,
   "metadata": {},
   "outputs": [],
   "source": [
    "fmatrix = fmatrix.loc[fmatrix['lesion_state']!='normal'].sample(frac=1)"
   ]
  },
  {
   "cell_type": "code",
   "execution_count": null,
   "metadata": {},
   "outputs": [],
   "source": [
    "fmatrix.head()"
   ]
  },
  {
   "cell_type": "code",
   "execution_count": 10,
   "metadata": {},
   "outputs": [],
   "source": [
    "train_set, val_set = train_test_split(fmatrix, test_size=0.2, stratify=fmatrix['lesion_state'], random_state=9)"
   ]
  },
  {
   "cell_type": "code",
   "execution_count": 11,
   "metadata": {},
   "outputs": [
    {
     "data": {
      "text/plain": [
       "benign       350\n",
       "malignant    168\n",
       "normal       106\n",
       "Name: lesion_state, dtype: int64"
      ]
     },
     "execution_count": 11,
     "metadata": {},
     "output_type": "execute_result"
    }
   ],
   "source": [
    "train_set['lesion_state'].value_counts()"
   ]
  },
  {
   "cell_type": "code",
   "execution_count": 12,
   "metadata": {},
   "outputs": [
    {
     "data": {
      "text/plain": [
       "benign       87\n",
       "malignant    42\n",
       "normal       27\n",
       "Name: lesion_state, dtype: int64"
      ]
     },
     "execution_count": 12,
     "metadata": {},
     "output_type": "execute_result"
    }
   ],
   "source": [
    "val_set['lesion_state'].value_counts()"
   ]
  },
  {
   "cell_type": "code",
   "execution_count": null,
   "metadata": {},
   "outputs": [],
   "source": [
    "path_to_train_images = '/external_drive/BUS_Deep_Learning/data/seg_dir_unet/train_images'\n",
    "path_to_val_images = '/external_drive/BUS_Deep_Learning/data/seg_dir_unet/val_images'\n",
    "os.makedirs(path_to_train_images,exist_ok=True)\n",
    "os.makedirs(path_to_val_images,exist_ok=True)\n",
    "\n",
    "path_to_train_masks = '/external_drive/BUS_Deep_Learning/data/seg_dir_unet/train_masks'\n",
    "path_to_val_masks = '/external_drive/BUS_Deep_Learning/data/seg_dir_unet/val_masks'\n",
    "os.makedirs(path_to_train_masks,exist_ok=True)\n",
    "os.makedirs(path_to_val_masks,exist_ok=True)"
   ]
  },
  {
   "cell_type": "markdown",
   "metadata": {},
   "source": [
    "**CREATE DIR FOR TRAINING MASK R-CNN**"
   ]
  },
  {
   "cell_type": "code",
   "execution_count": null,
   "metadata": {},
   "outputs": [],
   "source": [
    "for condition in os.listdir(path_to_bus):\n",
    "    for bus in os.listdir(os.path.join(path_to_bus,condition)):\n",
    "        if 'mask' in bus:\n",
    "            if bus.split('_')[0]+'.png' in train_set['images'].values:\n",
    "                shutil.copy(os.path.join(path_to_bus,condition,bus),os.path.join(path_to_train_masks,bus))\n",
    "            elif bus.split('_')[0]+'.png' in val_set['images'].values:\n",
    "                shutil.copy(os.path.join(path_to_bus,condition,bus),os.path.join(path_to_val_masks,bus))\n",
    "        else:\n",
    "            if bus in train_set['images'].values:\n",
    "                shutil.copy(os.path.join(path_to_bus,condition,bus),os.path.join(path_to_train_images,bus))\n",
    "            elif bus in val_set['images'].values:\n",
    "                shutil.copy(os.path.join(path_to_bus,condition,bus),os.path.join(path_to_val_images,bus))"
   ]
  },
  {
   "cell_type": "markdown",
   "metadata": {},
   "source": [
    "**CREATE DIR FOR TRAINING U-NET**"
   ]
  },
  {
   "cell_type": "code",
   "execution_count": null,
   "metadata": {},
   "outputs": [],
   "source": [
    "def merge_masks(arr):\n",
    "    if np.any(arr!=0.0):\n",
    "        return 255.0\n",
    "    else:\n",
    "        return 0.0\n",
    "\n",
    "#Train Set\n",
    "print('Train Set')\n",
    "for idx, row in train_set.iterrows():\n",
    "    path_to_image = os.path.join(path_to_bus,row['lesion_state'],row['images'])\n",
    "    print(path_to_image)\n",
    "    shutil.copy(path_to_image,os.path.join(path_to_train_images,row['images']))\n",
    "    path_to_masks = glob.glob(path_to_image.replace('.png','_mask*'))\n",
    "    print('number of masks-->',len(path_to_masks))\n",
    "    masks = []\n",
    "    for path_to_mask in path_to_masks:\n",
    "        masks.append(cv2.imread(path_to_mask, cv2.IMREAD_GRAYSCALE))\n",
    "    masks = np.array(masks)\n",
    "    mask = np.apply_along_axis(merge_masks, 0, masks)\n",
    "    cv2.imwrite(os.path.join(path_to_train_masks,row['images']),mask)\n",
    "\n",
    "print('')\n",
    "\n",
    "#Validation Set    \n",
    "print('Val Set')\n",
    "for idx, row in val_set.iterrows():\n",
    "    path_to_image = os.path.join(path_to_bus,row['lesion_state'],row['images'])\n",
    "    print(path_to_image)\n",
    "    shutil.copy(path_to_image,os.path.join(path_to_val_images,row['images']))\n",
    "    path_to_masks = glob.glob(path_to_image.replace('.png','_mask*'))\n",
    "    print('number of masks-->',len(path_to_masks))\n",
    "    masks = []\n",
    "    for path_to_mask in path_to_masks:\n",
    "        masks.append(cv2.imread(path_to_mask, cv2.IMREAD_GRAYSCALE))\n",
    "    masks = np.array(masks)\n",
    "    mask = np.apply_along_axis(merge_masks, 0, masks)\n",
    "    cv2.imwrite(os.path.join(path_to_val_masks,row['images']),mask)"
   ]
  },
  {
   "cell_type": "code",
   "execution_count": null,
   "metadata": {},
   "outputs": [],
   "source": []
  }
 ],
 "metadata": {
  "kernelspec": {
   "display_name": "Environment (conda_tensorflow_p36)",
   "language": "python",
   "name": "conda_tensorflow_p36"
  },
  "language_info": {
   "codemirror_mode": {
    "name": "ipython",
    "version": 3
   },
   "file_extension": ".py",
   "mimetype": "text/x-python",
   "name": "python",
   "nbconvert_exporter": "python",
   "pygments_lexer": "ipython3",
   "version": "3.6.5"
  }
 },
 "nbformat": 4,
 "nbformat_minor": 2
}
