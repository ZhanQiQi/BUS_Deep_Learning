{
 "cells": [
  {
   "cell_type": "code",
   "execution_count": null,
   "metadata": {},
   "outputs": [],
   "source": [
    "import pandas as pd\n",
    "import numpy as np\n",
    "import cv2\n",
    "import os\n",
    "import h5py\n",
    "from keras.applications.inception_resnet_v2 import InceptionResNetV2\n",
    "from keras.layers import Input\n",
    "from keras.optimizers import Adam\n",
    "from keras.callbacks import ModelCheckpoint\n",
    "from keras.preprocessing.image import ImageDataGenerator\n",
    "from matplotlib import pyplot as plt"
   ]
  },
  {
   "cell_type": "code",
   "execution_count": null,
   "metadata": {},
   "outputs": [],
   "source": [
    "val_set = pd.read_pickle('/external_drive/BUS_Deep_Learning/train_set_class_nn.pickle')\n",
    "train_set = pd.read_pickle('/external_drive/BUS_Deep_Learning/val_set_class_nn.pickle')\n"
   ]
  },
  {
   "cell_type": "code",
   "execution_count": null,
   "metadata": {},
   "outputs": [],
   "source": [
    "model_save_dir ='models/classification_models/inception_resnet_v2-noaug_no-normals_histogram_eq-cross-val1'\n",
    "os.makedirs(model_save_dir,exist_ok=True)"
   ]
  },
  {
   "cell_type": "code",
   "execution_count": null,
   "metadata": {},
   "outputs": [],
   "source": [
    "image_shape = (128,128,1)\n",
    "input_tensor = Input(image_shape)\n",
    "inceptionresnetv2 = InceptionResNetV2(input_tensor=input_tensor, weights=None, include_top=True, classes=2)"
   ]
  },
  {
   "cell_type": "code",
   "execution_count": null,
   "metadata": {},
   "outputs": [],
   "source": [
    "#batch size\n",
    "train_batch_size = 16\n",
    "val_batch_size = 16\n",
    "nepochs = 50\n",
    "#model optimizer\n",
    "optimizer = Adam(beta_1=0.99,beta_2=0.99,lr=1.0e-4,decay=1.0e-6)\n",
    "#loss\n",
    "loss= 'categorical_crossentropy'\n",
    "#create checkpoint callback to save model on epochs that have best validation accuracy\n",
    "checkpoint = ModelCheckpoint(model_save_dir + '/weights-improvement-{epoch:02d}-{val_categorical_accuracy:.2f}.hdf5', monitor='val_categorical_accuracy', verbose=1, save_best_only=True, mode='max')\n",
    "callbacks_list = [checkpoint]"
   ]
  },
  {
   "cell_type": "code",
   "execution_count": null,
   "metadata": {},
   "outputs": [],
   "source": [
    "inceptionresnetv2.compile(loss=loss, optimizer=optimizer, metrics = ['categorical_accuracy'])      "
   ]
  },
  {
   "cell_type": "code",
   "execution_count": null,
   "metadata": {},
   "outputs": [],
   "source": [
    "def get_xy_data(fmatrix):\n",
    "    x_input = []\n",
    "    y_output = []\n",
    "    \n",
    "    for index, row in fmatrix.iterrows():\n",
    "        print('loading sequence : {}'.format(row['image_path']))\n",
    "        img = cv2.imread(row['image_path'], cv2.IMREAD_GRAYSCALE)\n",
    "        img = cv2.equalizeHist(img)\n",
    "#         clahe = cv2.createCLAHE()\n",
    "#         img = clahe.apply(img)\n",
    "        img = cv2.resize(img,(128,128))\n",
    "        img = img/255.0\n",
    "        x_input.append(img.reshape(img.shape + (1,)))\n",
    "        y_output.append(list(row['lesion_state_one_hot']))\n",
    "        \n",
    "    return np.array(x_input), np.array(y_output)    "
   ]
  },
  {
   "cell_type": "code",
   "execution_count": null,
   "metadata": {},
   "outputs": [],
   "source": [
    "#Train Set\n",
    "print('***build training set***')\n",
    "x_train, y_train = get_xy_data(train_set)\n",
    "\n",
    "#Test Set\n",
    "print('***build val set***')\n",
    "x_val, y_val = get_xy_data(val_set)"
   ]
  },
  {
   "cell_type": "code",
   "execution_count": null,
   "metadata": {},
   "outputs": [],
   "source": [
    "#Training Set Distribution\n",
    "print('training set shape-->')\n",
    "print(x_train.shape)\n",
    "print('validation set shape-->')\n",
    "print(x_val.shape)"
   ]
  },
  {
   "cell_type": "code",
   "execution_count": null,
   "metadata": {},
   "outputs": [],
   "source": [
    "#steps per epoch\n",
    "train_steps_per_epoch = int(np.ceil(len(x_train)/train_batch_size))\n",
    "val_steps_per_epoch = int(np.ceil(len(x_train)/val_batch_size))"
   ]
  },
  {
   "cell_type": "code",
   "execution_count": null,
   "metadata": {},
   "outputs": [],
   "source": [
    "#Generator for keras model\n",
    "seed = 9\n",
    "\n",
    "data_gen_args = dict(width_shift_range=0.1,\n",
    "                    height_shift_range=0.1,\n",
    "                    shear_range=10,\n",
    "                    horizontal_flip=True,\n",
    "                    fill_mode='nearest')\n",
    "\n",
    "# train_image_datagen = ImageDataGenerator(**data_gen_args)   \n",
    "train_image_datagen = ImageDataGenerator()   \n",
    "val_image_datagen = ImageDataGenerator()   \n",
    "\n",
    "training_set_generator = train_image_datagen.flow(x_train, y_train, batch_size=train_batch_size, shuffle=True,seed=seed)\n",
    "validation_set_generator = val_image_datagen.flow(x_val, y_val, batch_size=val_batch_size, shuffle=True, seed=seed)\n"
   ]
  },
  {
   "cell_type": "code",
   "execution_count": null,
   "metadata": {},
   "outputs": [],
   "source": [
    "history = inceptionresnetv2.fit_generator(training_set_generator, validation_data = validation_set_generator, steps_per_epoch=train_steps_per_epoch, validation_steps=val_steps_per_epoch, epochs = nepochs, callbacks=callbacks_list, verbose=True)"
   ]
  },
  {
   "cell_type": "code",
   "execution_count": null,
   "metadata": {},
   "outputs": [],
   "source": [
    "with h5py.File(model_save_dir+'_history.hdf5') as hfile:\n",
    "    for keyi in history.history:\n",
    "        hfile.create_dataset(keyi, data=history.history[keyi])"
   ]
  },
  {
   "cell_type": "code",
   "execution_count": null,
   "metadata": {},
   "outputs": [],
   "source": []
  }
 ],
 "metadata": {
  "kernelspec": {
   "display_name": "Environment (conda_tensorflow_p36)",
   "language": "python",
   "name": "conda_tensorflow_p36"
  },
  "language_info": {
   "codemirror_mode": {
    "name": "ipython",
    "version": 3
   },
   "file_extension": ".py",
   "mimetype": "text/x-python",
   "name": "python",
   "nbconvert_exporter": "python",
   "pygments_lexer": "ipython3",
   "version": "3.6.5"
  }
 },
 "nbformat": 4,
 "nbformat_minor": 2
}
